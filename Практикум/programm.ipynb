{
 "cells": [
  {
   "cell_type": "code",
   "execution_count": null,
   "metadata": {
    "dotnet_interactive": {
     "language": "csharp"
    },
    "polyglot_notebook": {
     "kernelName": "csharp"
    }
   },
   "outputs": [],
   "source": []
  },
  {
   "cell_type": "code",
   "execution_count": 5,
   "metadata": {},
   "outputs": [
    {
     "name": "stdout",
     "output_type": "stream",
     "text": [
      "String result: K=W?!9E+75\n",
      " Str time: 59\n",
      "StringBuilder result: OLQ&FYZ38Y\n",
      " StrB time: 11\n"
     ]
    }
   ],
   "source": [
    "using System.Diagnostics;\n",
    "\n",
    "\n",
    "Random random = new Random();\n",
    "\n",
    "\n",
    "string string_default = \"adskisatan\";\n",
    "Stopwatch time_default = new Stopwatch();\n",
    "\n",
    "\n",
    "time_default.Start();\n",
    "for (int i = 0; i < 1000000; i++)\n",
    "{\n",
    "    char symbol = Convert.ToChar(random.Next(32,92));\n",
    "    string_default = string_default.Substring(0, i % 10) + symbol + string_default.Substring(i % 10 + 1, 9 - i % 10);\n",
    "}\n",
    "time_default.Stop();\n",
    "Console.WriteLine($\"String result: {string_default}\\n Str time: {time_default.ElapsedMilliseconds}\");\n",
    "\n",
    "\n",
    "StringBuilder string_builder = new StringBuilder(\"adskisatan\");\n",
    "Stopwatch time_builder = new Stopwatch();\n",
    "\n",
    "\n",
    "time_builder.Start();\n",
    "for (int i = 0; i < 1000000; i++)\n",
    "{\n",
    "    string_builder [i % 10] = Convert.ToChar(random.Next(32,92));\n",
    "}\n",
    "time_builder.Stop();\n",
    "Console.WriteLine($\"StringBuilder result: {string_builder}\\n StrB time: {time_builder.ElapsedMilliseconds}\");\n"
   ]
  },
  {
   "cell_type": "code",
   "execution_count": 18,
   "metadata": {},
   "outputs": [
    {
     "data": {
      "text/html": [
       "<div class=\"dni-plaintext\"><pre>False</pre></div><style>\r\n",
       ".dni-code-hint {\r\n",
       "    font-style: italic;\r\n",
       "    overflow: hidden;\r\n",
       "    white-space: nowrap;\r\n",
       "}\r\n",
       ".dni-treeview {\r\n",
       "    white-space: nowrap;\r\n",
       "}\r\n",
       ".dni-treeview td {\r\n",
       "    vertical-align: top;\r\n",
       "    text-align: start;\r\n",
       "}\r\n",
       "details.dni-treeview {\r\n",
       "    padding-left: 1em;\r\n",
       "}\r\n",
       "table td {\r\n",
       "    text-align: start;\r\n",
       "}\r\n",
       "table tr { \r\n",
       "    vertical-align: top; \r\n",
       "    margin: 0em 0px;\r\n",
       "}\r\n",
       "table tr td pre \r\n",
       "{ \r\n",
       "    vertical-align: top !important; \r\n",
       "    margin: 0em 0px !important;\r\n",
       "} \r\n",
       "table th {\r\n",
       "    text-align: start;\r\n",
       "}\r\n",
       "</style>"
      ]
     },
     "metadata": {},
     "output_type": "display_data"
    }
   ],
   "source": [
    "using System.Text.RegularExpressions;\n",
    "\n",
    "\n",
    "string str = \"20:31\";\n",
    "string regex  = @\"([0-1][0-9]|2[0-3]):([0-5][0-9])\";\n",
    "\n",
    "\n",
    "Regex.IsMatch(str, regex)"
   ]
  },
  {
   "cell_type": "code",
   "execution_count": 32,
   "metadata": {},
   "outputs": [
    {
     "data": {
      "text/html": [
       "<div class=\"dni-plaintext\"><pre>True</pre></div><style>\r\n",
       ".dni-code-hint {\r\n",
       "    font-style: italic;\r\n",
       "    overflow: hidden;\r\n",
       "    white-space: nowrap;\r\n",
       "}\r\n",
       ".dni-treeview {\r\n",
       "    white-space: nowrap;\r\n",
       "}\r\n",
       ".dni-treeview td {\r\n",
       "    vertical-align: top;\r\n",
       "    text-align: start;\r\n",
       "}\r\n",
       "details.dni-treeview {\r\n",
       "    padding-left: 1em;\r\n",
       "}\r\n",
       "table td {\r\n",
       "    text-align: start;\r\n",
       "}\r\n",
       "table tr { \r\n",
       "    vertical-align: top; \r\n",
       "    margin: 0em 0px;\r\n",
       "}\r\n",
       "table tr td pre \r\n",
       "{ \r\n",
       "    vertical-align: top !important; \r\n",
       "    margin: 0em 0px !important;\r\n",
       "} \r\n",
       "table th {\r\n",
       "    text-align: start;\r\n",
       "}\r\n",
       "</style>"
      ]
     },
     "metadata": {},
     "output_type": "display_data"
    }
   ],
   "source": [
    "string email = \"bDsdAB.ASFSds-_2--_a41.gbfkisodfk4@sa_d1.das-d.d_uf\";\n",
    "string regex = @\"[\\w\\-\\.]@([\\w\\-]+\\.)+[\\w]{2,}\";\n",
    "\n",
    "\n",
    "Regex.IsMatch(email, regex)"
   ]
  },
  {
   "cell_type": "code",
   "execution_count": null,
   "metadata": {},
   "outputs": [],
   "source": []
  }
 ],
 "metadata": {
  "kernelspec": {
   "display_name": ".NET (C#)",
   "language": "C#",
   "name": ".net-csharp"
  },
  "polyglot_notebook": {
   "kernelInfo": {
    "defaultKernelName": "csharp",
    "items": [
     {
      "aliases": [],
      "languageName": "csharp",
      "name": "csharp"
     }
    ]
   }
  }
 },
 "nbformat": 4,
 "nbformat_minor": 2
}
