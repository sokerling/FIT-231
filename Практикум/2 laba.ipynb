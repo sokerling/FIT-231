{
 "cells": [
  {
   "cell_type": "code",
   "execution_count": null,
   "metadata": {
    "dotnet_interactive": {
     "language": "csharp"
    },
    "polyglot_notebook": {
     "kernelName": "csharp"
    }
   },
   "outputs": [],
   "source": [
    "using System.Diagnostics;\n",
    "Random r = new Random();\n",
    "string s = \"kefirkefir\";\n",
    "StringBuilder string_builder = new StringBuilder(\"kefirkefir\");\n",
    "Stopwatch time_s = new Stopwatch();\n",
    "Stopwatch time_sb = new Stopwatch();\n",
    "time_s.Start();\n",
    "for (int i = 0; i < 1000000; i++)\n",
    "{\n",
    "    char[] sc = s.ToCharArray();\n",
    "    sc[i % 10] = Convert.ToChar(r.Next(32,92));\n",
    "    char symbol = Convert.ToChar(r.Next(32,92));\n",
    "    s = sc.ToString();\n",
    "}\n",
    "time_default.Stop();\n",
    "Console.WriteLine($\"Новая строка: {string_default}; время выполнения: {time_default.ElapsedMilliseconds}\");\n",
    "time_builder.Start();\n",
    "for (int i = 0; i < 1000000; i++)\n",
    "{\n",
    "    string_builder [i % 10] = Convert.ToChar(r.Next(32,92));\n",
    "}\n",
    "time_builder.Stop();\n",
    "Console.WriteLine($\"Новый стрингбилдер: {string_builder}; время выполнения: {time_builder.ElapsedMilliseconds}\");\n"
   ]
  },
  {
   "cell_type": "code",
   "execution_count": null,
   "metadata": {},
   "outputs": [],
   "source": [
    "using System.Text.RegularExpressions;\n",
    "string time = \"22:22\";\n",
    "string regex  = @\"([0-1][0-9]|2[0-3]):([0-5][0-9])\";\n",
    "Regex.IsMatch(str, time)"
   ]
  },
  {
   "cell_type": "code",
   "execution_count": 1,
   "metadata": {
    "dotnet_interactive": {
     "language": "csharp"
    },
    "polyglot_notebook": {
     "kernelName": "csharp"
    }
   },
   "outputs": [
    {
     "data": {
      "text/html": [
       "<div class=\"dni-plaintext\"><pre>True</pre></div><style>\r\n",
       ".dni-code-hint {\r\n",
       "    font-style: italic;\r\n",
       "    overflow: hidden;\r\n",
       "    white-space: nowrap;\r\n",
       "}\r\n",
       ".dni-treeview {\r\n",
       "    white-space: nowrap;\r\n",
       "}\r\n",
       ".dni-treeview td {\r\n",
       "    vertical-align: top;\r\n",
       "    text-align: start;\r\n",
       "}\r\n",
       "details.dni-treeview {\r\n",
       "    padding-left: 1em;\r\n",
       "}\r\n",
       "table td {\r\n",
       "    text-align: start;\r\n",
       "}\r\n",
       "table tr { \r\n",
       "    vertical-align: top; \r\n",
       "    margin: 0em 0px;\r\n",
       "}\r\n",
       "table tr td pre \r\n",
       "{ \r\n",
       "    vertical-align: top !important; \r\n",
       "    margin: 0em 0px !important;\r\n",
       "} \r\n",
       "table th {\r\n",
       "    text-align: start;\r\n",
       "}\r\n",
       "</style>"
      ]
     },
     "metadata": {},
     "output_type": "display_data"
    }
   ],
   "source": [
    "using System.Text.RegularExpressions;\n",
    "string mail = \"fbjfdjkvnkj223jnvjdafvjn--fbf-.fbf@fbfksdkm-fb.ru\";\n",
    "string regex = @\"[\\w\\-\\.]@([\\w\\-]+\\.)+[\\w]{2,}\";\n",
    "Regex.IsMatch(mail, regex)"
   ]
  }
 ],
 "metadata": {
  "kernelspec": {
   "display_name": ".NET (C#)",
   "language": "C#",
   "name": ".net-csharp"
  },
  "polyglot_notebook": {
   "kernelInfo": {
    "defaultKernelName": "csharp",
    "items": [
     {
      "aliases": [],
      "languageName": "csharp",
      "name": "csharp"
     }
    ]
   }
  }
 },
 "nbformat": 4,
 "nbformat_minor": 2
}
