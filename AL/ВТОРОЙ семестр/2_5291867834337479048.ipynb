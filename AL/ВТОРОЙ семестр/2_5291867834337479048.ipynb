{
 "cells": [
  {
   "cell_type": "code",
   "execution_count": 15,
   "metadata": {
    "dotnet_interactive": {
     "language": "csharp"
    },
    "polyglot_notebook": {
     "kernelName": "csharp"
    }
   },
   "outputs": [],
   "source": [
    "class TrapezoidalRule {\n",
    "    public static double Solve(Func<double, double> f, double a, double b, double dx) \n",
    "    {\n",
    "        if (a == Double.PositiveInfinity || a == Double.NegativeInfinity ||\n",
    "        b == Double.PositiveInfinity || b == Double.NegativeInfinity ||\n",
    "        dx == Double.PositiveInfinity || dx == Double.NegativeInfinity)\n",
    "            throw new ArgumentException(\"Бесконечность на вводе!\");\n",
    "        if (b < a)\n",
    "            throw new ArgumentException(\"Некорректные пределы!\");\n",
    "        double result = 0;\n",
    "        double x = a;\n",
    "        double e = 1E-7;\n",
    "        if (dx < e) throw new ArgumentException(\"Слишком маленький шаг\");\n",
    "        if (Math.Abs(b - a) < e) throw new ArgumentException(\"Слишком маленькая разница между началом и концом интеграла\");\n",
    "\n",
    "        int n = Convert.ToInt32(Math.Floor((b - a) / dx));\n",
    "\n",
    "        for(int i = 1; i <= n; i++){\n",
    "            result += (f(x + i * dx) + f(x + (i - 1) * dx)) / 2 * dx;\n",
    "        }\n",
    "        \n",
    "        if (((b - a) / dx - n) > e){\n",
    "            result += (f(b) + f((x + n * dx))) / 2 * (b - (x + n * dx));\n",
    "        }\n",
    "\n",
    "    //     while (x <= b)\n",
    "    //     {      \n",
    "    //         if ((Math.Abs(x - b) < e) && (Math.Abs(x - b) != 0)) {\n",
    "    //             throw new ArgumentException(\"Слишком маленькая разница между текущим значением переменной x и концом интеграла\");\n",
    "    //             }\n",
    "    //         else if (x <= b - dx)\n",
    "    //         {\n",
    "    //             if ((Math.Abs(x - (b - dx)) < e) && ((Math.Abs(x - (b - dx)) != 0))) throw new ArgumentException(\"Слишком маленькая разница между текущим значением переменной x и концом интеграла\");\n",
    "    //             else result += Cut(Cut((Cut(f(x) + f(x + dx))) / 2) * dx);\n",
    "    //         }\n",
    "    //         else\n",
    "    //         {\n",
    "    //         result += Cut(Cut((Cut(f(x) + f(b))) / 2) * dx);\n",
    "    //         }\n",
    "    //     result = Cut(result);\n",
    "    //     // Console.WriteLine(result);\n",
    "    //     x += dx;\n",
    "    //     }\n",
    "    //     return result;\n",
    "    // }\n",
    "\n",
    "    // public static double Cut(double num){\n",
    "    //     return Math.Round(num, 7);\n",
    "    // }\n",
    "    return(result);\n",
    "\n",
    "}\n",
    "}"
   ]
  },
  {
   "cell_type": "code",
   "execution_count": 16,
   "metadata": {
    "dotnet_interactive": {
     "language": "csharp"
    },
    "polyglot_notebook": {
     "kernelName": "csharp"
    }
   },
   "outputs": [
    {
     "ename": "Error",
     "evalue": "System.ArgumentException: Некорректные пределы!\r\n   at Submission#16.TrapezoidalRule.Solve(Func`2 f, Double a, Double b, Double dx)\r\n   at Submission#17.<<Initialize>>d__0.MoveNext()\r\n--- End of stack trace from previous location ---\r\n   at Microsoft.CodeAnalysis.Scripting.ScriptExecutionState.RunSubmissionsAsync[TResult](ImmutableArray`1 precedingExecutors, Func`2 currentExecutor, StrongBox`1 exceptionHolderOpt, Func`2 catchExceptionOpt, CancellationToken cancellationToken)",
     "output_type": "error",
     "traceback": [
      "System.ArgumentException: Некорректные пределы!\r\n",
      "   at Submission#16.TrapezoidalRule.Solve(Func`2 f, Double a, Double b, Double dx)\r\n",
      "   at Submission#17.<<Initialize>>d__0.MoveNext()\r\n",
      "--- End of stack trace from previous location ---\r\n",
      "   at Microsoft.CodeAnalysis.Scripting.ScriptExecutionState.RunSubmissionsAsync[TResult](ImmutableArray`1 precedingExecutors, Func`2 currentExecutor, StrongBox`1 exceptionHolderOpt, Func`2 catchExceptionOpt, CancellationToken cancellationToken)"
     ]
    }
   ],
   "source": [
    "Func<double, double> f = (double x) => -x*x + 9;\n",
    "var answ = TrapezoidalRule.Solve(f, -3, 3, 0.1);\n",
    "answ"
   ]
  }
 ],
 "metadata": {
  "kernelspec": {
   "display_name": ".NET (C#)",
   "language": "C#",
   "name": ".net-csharp"
  },
  "language_info": {
   "name": "polyglot-notebook"
  },
  "polyglot_notebook": {
   "kernelInfo": {
    "defaultKernelName": "csharp",
    "items": [
     {
      "aliases": [],
      "languageName": "csharp",
      "name": "csharp"
     }
    ]
   }
  }
 },
 "nbformat": 4,
 "nbformat_minor": 2
}
